{
  "nbformat": 4,
  "nbformat_minor": 0,
  "metadata": {
    "colab": {
      "provenance": [],
      "authorship_tag": "ABX9TyMfaahyCrRizpkCeQdFqtIf",
      "include_colab_link": true
    },
    "kernelspec": {
      "name": "python3",
      "display_name": "Python 3"
    },
    "language_info": {
      "name": "python"
    }
  },
  "cells": [
    {
      "cell_type": "markdown",
      "metadata": {
        "id": "view-in-github",
        "colab_type": "text"
      },
      "source": [
        "<a href=\"https://colab.research.google.com/github/Kainat-Shafiq/Project-4-conti..-Assignments-1-to-6/blob/main/Assignments_1_to_6_.ipynb\" target=\"_parent\"><img src=\"https://colab.research.google.com/assets/colab-badge.svg\" alt=\"Open In Colab\"/></a>"
      ]
    },
    {
      "cell_type": "markdown",
      "source": [
        "\n",
        "### **Project 1: Mad Libs (Colab friendly)**"
      ],
      "metadata": {
        "id": "_BZdEfYQYxcN"
      }
    },
    {
      "cell_type": "code",
      "source": [
        "def mad_libs(noun=\"dog\", verb=\"runs\", adjective=\"happy\", adverb=\"quickly\"):\n",
        "    story = f\"The {adjective} {noun} {verb} over the hill {adverb}.\"\n",
        "    print(\"Mad Libs Story:\")\n",
        "    print(story)"
      ],
      "metadata": {
        "id": "eRqLBYFRYetT"
      },
      "execution_count": null,
      "outputs": []
    },
    {
      "cell_type": "markdown",
      "source": [
        "# **# Project 2: Guess the Number (Computer guesses user's input)**"
      ],
      "metadata": {
        "id": "oucrQZnAY91z"
      }
    },
    {
      "cell_type": "code",
      "execution_count": null,
      "metadata": {
        "id": "lPUKxAvjW6WU"
      },
      "outputs": [],
      "source": [
        "def guess_number_computer(secret_number=42):\n",
        "    print(\"Guess the number between 1 and 100.\")\n",
        "    guess = None\n",
        "    attempts = 0\n",
        "\n",
        "    while guess != secret_number:\n",
        "        guess = random.randint(1, 100)\n",
        "        print(f\"Computer guesses: {guess}\")\n",
        "        attempts += 1\n",
        "        if guess < secret_number:\n",
        "            print(\"Too low.\")\n",
        "        elif guess > secret_number:\n",
        "            print(\"Too high.\")\n",
        "        else:\n",
        "            print(f\"Correct! Guessed in {attempts} tries.\")\n"
      ]
    },
    {
      "cell_type": "markdown",
      "source": [
        "## **# Project 3: User thinks of number, Computer guesses**"
      ],
      "metadata": {
        "id": "LPLpguAaZfW9"
      }
    },
    {
      "cell_type": "code",
      "source": [
        "def guess_number_user_simulated(user_number=57):\n",
        "    low = 1\n",
        "    high = 100\n",
        "    guess = None\n",
        "    steps = 0\n",
        "\n",
        "    while guess != user_number:\n",
        "        guess = (low + high) // 2\n",
        "        print(f\"Computer guesses: {guess}\")\n",
        "        steps += 1\n",
        "        if guess > user_number:\n",
        "            high = guess - 1\n",
        "        elif guess < user_number:\n",
        "            low = guess + 1\n",
        "        else:\n",
        "            print(f\"Computer guessed your number {user_number} in {steps} steps!\")\n"
      ],
      "metadata": {
        "id": "4pxpSVwXZiwf"
      },
      "execution_count": null,
      "outputs": []
    },
    {
      "cell_type": "markdown",
      "source": [
        "### **Project 4: Rock, Paper, Scissors (Colab friendly)**"
      ],
      "metadata": {
        "id": "lnFcJqWWZtWd"
      }
    },
    {
      "cell_type": "code",
      "source": [
        "def rock_paper_scissors(user_choice=\"rock\"):\n",
        "    choices = ['rock', 'paper', 'scissors']\n",
        "    computer_choice = random.choice(choices)\n",
        "    print(f\"You chose {user_choice}, computer chose {computer_choice}.\")\n",
        "\n",
        "    if user_choice == computer_choice:\n",
        "        print(\"It's a tie!\")\n",
        "    elif (user_choice == 'rock' and computer_choice == 'scissors') or \\\n",
        "         (user_choice == 'paper' and computer_choice == 'rock') or \\\n",
        "         (user_choice == 'scissors' and computer_choice == 'paper'):\n",
        "        print(\"You win!\")\n",
        "    else:\n",
        "        print(\"You lose!\")"
      ],
      "metadata": {
        "id": "1Spv3fSaZsyn"
      },
      "execution_count": null,
      "outputs": []
    },
    {
      "cell_type": "markdown",
      "source": [
        "# **# Project 5: Hangman (predefined guesses)**"
      ],
      "metadata": {
        "id": "qaf2GcVzaB5i"
      }
    },
    {
      "cell_type": "code",
      "source": [
        "def hangman(word='python', guesses=['p', 'y', 't', 'h', 'o', 'n']):\n",
        "    guessed = \"_\" * len(word)\n",
        "    tries = 6\n",
        "    guessed_letters = []\n",
        "\n",
        "    print(\"Welcome to Hangman!\")\n",
        "    for guess in guesses:\n",
        "        if guess in guessed_letters:\n",
        "            continue\n",
        "        elif guess in word:\n",
        "            guessed_letters.append(guess)\n",
        "            guessed = \"\".join([char if char in guessed_letters else \"_\" for char in word])\n",
        "        else:\n",
        "            guessed_letters.append(guess)\n",
        "            tries -= 1\n",
        "\n",
        "        print(f\"Word: {guessed} | Tries left: {tries}\")\n",
        "        if \"_\" not in guessed:\n",
        "            print(\"Congratulations! You guessed the word:\", word)\n",
        "            return\n",
        "\n",
        "    print(\"You lost! The word was:\", word)"
      ],
      "metadata": {
        "id": "KEysin3aaBfE"
      },
      "execution_count": null,
      "outputs": []
    },
    {
      "cell_type": "markdown",
      "source": [
        "# **# Project 6: Countdown Timer (short duration)**"
      ],
      "metadata": {
        "id": "oLTdZFvxaBFC"
      }
    },
    {
      "cell_type": "code",
      "source": [
        "def countdown_timer(seconds=5):\n",
        "    print(f\"Starting countdown from {seconds} seconds.\")\n",
        "    for i in range(seconds, 0, -1):\n",
        "        print(f\"{i} seconds remaining...\")\n",
        "        time.sleep(1)\n",
        "    print(\"Time's up!\")"
      ],
      "metadata": {
        "id": "mgYuvU04aROP"
      },
      "execution_count": null,
      "outputs": []
    },
    {
      "cell_type": "markdown",
      "source": [
        "# **# Project 7: Password Generator**"
      ],
      "metadata": {
        "id": "U9DKHnj5aVBz"
      }
    },
    {
      "cell_type": "code",
      "source": [
        "def password_generator(num=3, length=8):\n",
        "    chars = string.ascii_letters + string.digits + string.punctuation\n",
        "    passwords = [\"\".join(random.choices(chars, k=length)) for _ in range(num)]\n",
        "    print(\"Generated passwords:\")\n",
        "    for pwd in passwords:\n",
        "        print(pwd)"
      ],
      "metadata": {
        "id": "PfOjjBxDaVzV"
      },
      "execution_count": null,
      "outputs": []
    },
    {
      "cell_type": "markdown",
      "source": [
        "## **Project 8: BMI Calculator**"
      ],
      "metadata": {
        "id": "alR5aQUPbI1c"
      }
    },
    {
      "cell_type": "code",
      "source": [
        "# Save as bmi_calculator.py\n",
        "import streamlit as st\n",
        "\n",
        "st.title(\"BMI Calculator\")\n",
        "weight = st.number_input(\"Enter your weight (kg)\")\n",
        "height = st.number_input(\"Enter your height (m)\")\n",
        "if weight > 0 and height > 0:\n",
        "    bmi = round(weight / (height ** 2), 2)\n",
        "    st.write(f\"Your BMI is {bmi}\")\n",
        "    if bmi < 18.5:\n",
        "        st.write(\"Underweight\")\n",
        "    elif 18.5 <= bmi < 25:\n",
        "        st.write(\"Normal\")\n",
        "    elif 25 <= bmi < 30:\n",
        "        st.write(\"Overweight\")\n",
        "    else:\n",
        "        st.write(\"Obese\")\n"
      ],
      "metadata": {
        "id": "VaagrnjFbLY1"
      },
      "execution_count": null,
      "outputs": []
    },
    {
      "cell_type": "markdown",
      "source": [
        "## **Project 9: Simple Streamlit Website**"
      ],
      "metadata": {
        "id": "HYDagxDRbOhv"
      }
    },
    {
      "cell_type": "code",
      "source": [
        "# Save as streamlit_site.py\n",
        "import streamlit as st\n",
        "\n",
        "st.title(\"My Python Website\")\n",
        "st.write(\"Welcome to my Streamlit app!\")\n",
        "st.write(\"Explore projects, calculate BMI, and more!\")\n"
      ],
      "metadata": {
        "id": "vy1GfkZbbW5H"
      },
      "execution_count": null,
      "outputs": []
    }
  ]
}